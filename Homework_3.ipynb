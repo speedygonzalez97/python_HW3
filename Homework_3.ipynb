{
 "cells": [
  {
   "cell_type": "markdown",
   "metadata": {},
   "source": [
    "# Data Collections 2 (Dictionaries, Sets) and Importing Modules"
   ]
  },
  {
   "cell_type": "markdown",
   "metadata": {},
   "source": [
    "## Tasks Today:\n",
    "\n",
    "1) Dictionary <br>\n",
    " &nbsp;&nbsp;&nbsp;&nbsp; a) Declaring (key, value) <br>\n",
    " &nbsp;&nbsp;&nbsp;&nbsp; b) Accessing Values <br>\n",
    " &nbsp;&nbsp;&nbsp;&nbsp; ------ Exercise #1 - Print the eye color of each person in a double nested dict <br>\n",
    " &nbsp;&nbsp;&nbsp;&nbsp; c) Adding New Pairs <br>\n",
    " &nbsp;&nbsp;&nbsp;&nbsp; d) Modifying Values <br>\n",
    " &nbsp;&nbsp;&nbsp;&nbsp; e) Removing Key, Value Pairs <br>\n",
    " &nbsp;&nbsp;&nbsp;&nbsp; f) Looping a Dictionary <br>\n",
    " &nbsp;&nbsp;&nbsp;&nbsp; g) Looping Only Keys <br>\n",
    " &nbsp;&nbsp;&nbsp;&nbsp; h) Looping Only Values <br>\n",
    " &nbsp;&nbsp;&nbsp;&nbsp; ------ Exercise #2 - Create a Function that Prints All Key Value Pairs within a print .format()  <br>\n",
    " &nbsp;&nbsp;&nbsp;&nbsp; i) sorted() <br>\n",
    " &nbsp;&nbsp;&nbsp;&nbsp; j) Lists with Dictionaries <br>\n",
    " &nbsp;&nbsp;&nbsp;&nbsp; k) Dictionaries with Lists <br>\n",
    " &nbsp;&nbsp;&nbsp;&nbsp; l) Dictionaries with Dictionaries <br>\n",
    " &nbsp;&nbsp;&nbsp;&nbsp; ------ Exercise #3 - Write a Function that asks someone's name and address, and then stores that into a dictionary, which prints all names and addresses after they're done putting information in...  <br>\n",
    "2) Dictionaries vs. Lists (over time)<br>\n",
    "3) Set <br>\n",
    " &nbsp;&nbsp;&nbsp;&nbsp; a) Declaring <br>\n",
    " &nbsp;&nbsp;&nbsp;&nbsp; b) .add() <br>\n",
    " &nbsp;&nbsp;&nbsp;&nbsp; c) .remove() <br>\n",
    " &nbsp;&nbsp;&nbsp;&nbsp; d) .union() <br>\n",
    " &nbsp;&nbsp;&nbsp;&nbsp; e) .intersection() <br>\n",
    " &nbsp;&nbsp;&nbsp;&nbsp; f) .difference() <br>\n",
    " &nbsp;&nbsp;&nbsp;&nbsp; g) Frozen Set <br>\n",
    "4) Modules <br>\n",
    " &nbsp;&nbsp;&nbsp;&nbsp; a) Importing Entire Modules <br>\n",
    " &nbsp;&nbsp;&nbsp;&nbsp; b) Importing Methods Only <br>\n",
    " &nbsp;&nbsp;&nbsp;&nbsp; c) Using the 'as' Keyword <br>\n",
    " &nbsp;&nbsp;&nbsp;&nbsp; d) Creating a Module <br>\n",
    "5) Exercises <br>\n",
    " &nbsp;&nbsp;&nbsp;&nbsp; a) Build a Shopping Cart <br>\n",
    " &nbsp;&nbsp;&nbsp;&nbsp; b) Create Your Own Module <br>"
   ]
  },
  {
   "cell_type": "markdown",
   "metadata": {},
   "source": [
    "## Dictionary <br>\n",
    "<p>A collection of data with 'key:value' pairs. Dictionaries are ordered as of Python 3.6</p>"
   ]
  },
  {
   "cell_type": "markdown",
   "metadata": {},
   "source": [
    "##### Declaring (key, value)"
   ]
  },
  {
   "cell_type": "code",
   "execution_count": 1,
   "metadata": {},
   "outputs": [
    {
     "name": "stdout",
     "output_type": "stream",
     "text": [
      "{'firstname': 'bryan', 'lastname': 'gonzalez', 'age': 26, 'city': 'New York', 34: 153}\n"
     ]
    }
   ],
   "source": [
    "x = {\n",
    "    'firstname': \"bryan\",\n",
    "    'lastname': \"gonzalez\",\n",
    "     \"age\": 26,\n",
    "    \"city\": \"New York\",\n",
    "    34: 153\n",
    "}\n",
    "\n",
    "print(x)\n"
   ]
  },
  {
   "cell_type": "markdown",
   "metadata": {},
   "source": [
    "##### Accessing Values"
   ]
  },
  {
   "cell_type": "code",
   "execution_count": 2,
   "metadata": {},
   "outputs": [
    {
     "name": "stdout",
     "output_type": "stream",
     "text": [
      "26\n",
      "New York\n",
      "153\n"
     ]
    }
   ],
   "source": [
    "print(x[\"age\"])\n",
    "print(x[\"city\"])\n",
    "print(x[34])"
   ]
  },
  {
   "cell_type": "markdown",
   "metadata": {},
   "source": [
    "## In-Class Exercise #1 - Print a formatted statement from the dictionary below <br>\n",
    "<p>The output should be '2018 Chevrolet Silverado'</p>"
   ]
  },
  {
   "cell_type": "code",
   "execution_count": 20,
   "metadata": {},
   "outputs": [
    {
     "name": "stdout",
     "output_type": "stream",
     "text": [
      "2018 Chevrolet Silverado\n"
     ]
    }
   ],
   "source": [
    "# use the dict below\n",
    "truck = {\n",
    "    'year': 2018,\n",
    "    'make': 'Chevrolet',\n",
    "    'model': 'Silverado'\n",
    "}\n",
    "\n",
    "x = truck[\"year\"] \n",
    "y = truck[\"make\"] \n",
    "z = truck[\"model\"]\n",
    "\n",
    "string_truck = \"{} {} {}\".format(x,y,z)\n",
    "        \n",
    "print(string_truck)\n",
    "\n",
    "\n",
    "\n"
   ]
  },
  {
   "cell_type": "markdown",
   "metadata": {},
   "source": [
    "##### Adding New Pairs"
   ]
  },
  {
   "cell_type": "code",
   "execution_count": 25,
   "metadata": {
    "scrolled": true
   },
   "outputs": [
    {
     "data": {
      "text/plain": [
       "{'firstname': 'bryan',\n",
       " 'lastname': 'gonzalez',\n",
       " 'age': 26,\n",
       " 'city': 'New York',\n",
       " 34: 153,\n",
       " 'middlename': 'harry'}"
      ]
     },
     "execution_count": 25,
     "metadata": {},
     "output_type": "execute_result"
    }
   ],
   "source": [
    "x = {\n",
    "    'firstname': \"bryan\",\n",
    "    'lastname': \"gonzalez\",\n",
    "     \"age\": 26,\n",
    "    \"city\": \"New York\",\n",
    "    34: 153\n",
    "}\n",
    "\n",
    "x['middlename'] = 'harry'\n",
    "\n",
    "x"
   ]
  },
  {
   "cell_type": "markdown",
   "metadata": {},
   "source": [
    "##### Modifying Values"
   ]
  },
  {
   "cell_type": "code",
   "execution_count": 11,
   "metadata": {},
   "outputs": [
    {
     "name": "stdout",
     "output_type": "stream",
     "text": [
      "{'firstname': 'bryan', 'lastname': 'gonzalez', 'age': 26, 'city': 'New York', 34: 153}\n",
      "{'firstname': 'bryan', 'lastname': 'gonzalez', 'age': 26, 'city': 'Los Angeles', 34: 153}\n"
     ]
    }
   ],
   "source": [
    "x = {\n",
    "    'firstname': \"bryan\",\n",
    "    'lastname': \"gonzalez\",\n",
    "     \"age\": 26,\n",
    "    \"city\": \"New York\",\n",
    "    34: 153\n",
    "}\n",
    "\n",
    "print(x)\n",
    "\n",
    "x[\"city\"] = \"Los Angeles\"\n",
    "\n",
    "print(x)"
   ]
  },
  {
   "cell_type": "markdown",
   "metadata": {},
   "source": [
    "##### Removing Key, Value Pairs"
   ]
  },
  {
   "cell_type": "code",
   "execution_count": 12,
   "metadata": {},
   "outputs": [
    {
     "name": "stdout",
     "output_type": "stream",
     "text": [
      "{'firstname': 'bryan', 'lastname': 'gonzalez', 'city': 'New York'}\n"
     ]
    }
   ],
   "source": [
    "x = {\n",
    "    'firstname': \"bryan\",\n",
    "    'lastname': \"gonzalez\",\n",
    "     \"age\": 26,\n",
    "    \"city\": \"New York\",\n",
    "    34: 153\n",
    "}\n",
    "\n",
    "\n",
    "del x[\"age\"]\n",
    "del x[34]\n",
    "\n",
    "print(x)"
   ]
  },
  {
   "cell_type": "markdown",
   "metadata": {},
   "source": [
    "##### Looping a Dictionary"
   ]
  },
  {
   "cell_type": "code",
   "execution_count": 13,
   "metadata": {},
   "outputs": [
    {
     "name": "stdout",
     "output_type": "stream",
     "text": [
      "firstname bryan\n",
      "lastname gonzalez\n",
      "age 26\n",
      "city New York\n",
      "34 153\n"
     ]
    }
   ],
   "source": [
    "x = {\n",
    "    'firstname': \"bryan\",\n",
    "    'lastname': \"gonzalez\",\n",
    "     \"age\": 26,\n",
    "    \"city\": \"New York\",\n",
    "    34: 153\n",
    "}\n",
    "\n",
    "# .items()\n",
    "# a, b, c = 1, 2, 3\n",
    "# print(a)\n",
    "# print(b)\n",
    "# print(c)\n",
    "\n",
    "for key, value in x.items():\n",
    "    print(key,value)\n"
   ]
  },
  {
   "cell_type": "markdown",
   "metadata": {},
   "source": [
    "##### Looping Only Keys"
   ]
  },
  {
   "cell_type": "code",
   "execution_count": 14,
   "metadata": {},
   "outputs": [
    {
     "name": "stdout",
     "output_type": "stream",
     "text": [
      "firstname\n",
      "lastname\n",
      "age\n",
      "city\n",
      "34\n"
     ]
    }
   ],
   "source": [
    "x = {\n",
    "    'firstname': \"bryan\",\n",
    "    'lastname': \"gonzalez\",\n",
    "     \"age\": 26,\n",
    "    \"city\": \"New York\",\n",
    "     34: 153\n",
    "}\n",
    "\n",
    "for key in x.keys():\n",
    "    print(key)\n"
   ]
  },
  {
   "cell_type": "markdown",
   "metadata": {},
   "source": [
    "##### Looping Only Values"
   ]
  },
  {
   "cell_type": "code",
   "execution_count": 16,
   "metadata": {},
   "outputs": [
    {
     "name": "stdout",
     "output_type": "stream",
     "text": [
      "bryan\n",
      "gonzalez\n",
      "26\n",
      "New York\n",
      "153\n"
     ]
    }
   ],
   "source": [
    "x = {\n",
    "    'firstname': \"bryan\",\n",
    "    'lastname': \"gonzalez\",\n",
    "     \"age\": 26,\n",
    "    \"city\": \"New York\",\n",
    "     34: 153\n",
    "}\n",
    "\n",
    "for value in x.values():\n",
    "    print(value)\n"
   ]
  },
  {
   "cell_type": "markdown",
   "metadata": {},
   "source": [
    "## In-Class Exercise #2 - Create a Function that Prints All Key Value Pairs within a print .format() <br>\n",
    "<p><b>Output should be:</b><br>\n",
    "Max has blue eyes<br>\n",
    "Lilly has brown eyes<br>\n",
    "Barney has blue eyes<br>\n",
    "etc.\n",
    "</p>"
   ]
  },
  {
   "cell_type": "code",
   "execution_count": 17,
   "metadata": {},
   "outputs": [
    {
     "name": "stdout",
     "output_type": "stream",
     "text": [
      "Max has blue eyes\n",
      "Lilly has brown eyes\n",
      "Barney has blue eyes\n",
      "Larney has brown eyes\n",
      "Ted has purple eyes\n"
     ]
    }
   ],
   "source": [
    "# use the dict below\n",
    "\n",
    "people = {\n",
    "    'Max': 'blue',\n",
    "    'Lilly': 'brown',\n",
    "    'Barney': 'blue',\n",
    "    'Larney': 'brown',\n",
    "    'Ted': 'purple'\n",
    "}\n",
    "\n",
    "def keysvalues(pairings):\n",
    "\n",
    "    for key, value in pairings.items():\n",
    "        print(key + \" has \" + value + \" eyes\")\n",
    "\n",
    "keysvalues(people)              \n",
    "             \n",
    "\n"
   ]
  },
  {
   "cell_type": "markdown",
   "metadata": {},
   "source": [
    "##### sorted()"
   ]
  },
  {
   "cell_type": "code",
   "execution_count": 23,
   "metadata": {},
   "outputs": [
    {
     "name": "stdout",
     "output_type": "stream",
     "text": [
      "[('Barney', 'blue'), ('Larney', 'brown'), ('Lilly', 'brown'), ('Max', 'blue'), ('Ted', 'purple')]\n",
      "['Barney', 'Larney', 'Lilly', 'Max', 'Ted']\n",
      "['blue', 'blue', 'brown', 'brown', 'purple']\n"
     ]
    }
   ],
   "source": [
    "# sorts variables in order\n",
    "# sorted(dict.values()) or dict.keys() or dict.items()\n",
    "\n",
    "people = {\n",
    "    'Max': 'blue',\n",
    "    'Lilly': 'brown',\n",
    "    'Barney': 'blue',\n",
    "    'Larney': 'brown',\n",
    "    'Ted': 'purple'\n",
    "}\n",
    "\n",
    "print(sorted(people.items()))\n",
    "print(sorted(people.keys()))\n",
    "print(sorted(people.values()))"
   ]
  },
  {
   "cell_type": "markdown",
   "metadata": {},
   "source": [
    "##### List with Dictionaries"
   ]
  },
  {
   "cell_type": "code",
   "execution_count": 24,
   "metadata": {},
   "outputs": [
    {
     "name": "stdout",
     "output_type": "stream",
     "text": [
      "31\n",
      "21\n",
      "23\n",
      "31\n"
     ]
    }
   ],
   "source": [
    "names = [\"Bryan\", \"Harry\", \"Greg\", {\"Jennifer\": 21,\n",
    "                                    \"David\": 23,\n",
    "                                    \"Kevin\": 31 \n",
    "                                   }]\n",
    "\n",
    "print(names[3][\"Kevin\"])\n",
    "\n",
    "for values in names[3].values():\n",
    "    print(values)"
   ]
  },
  {
   "cell_type": "markdown",
   "metadata": {},
   "source": [
    "##### Dictionaries with Lists"
   ]
  },
  {
   "cell_type": "code",
   "execution_count": 28,
   "metadata": {},
   "outputs": [
    {
     "name": "stdout",
     "output_type": "stream",
     "text": [
      "C\n",
      "h\n",
      "r\n",
      "i\n",
      "s\n",
      "S\n",
      "t\n",
      "e\n",
      "v\n",
      "e\n"
     ]
    }
   ],
   "source": [
    "# be careful when using numbers as keys in dictionaries, don't confuse them with indexes\n",
    "\n",
    "newnames = {\"Harry\": 26,\n",
    "         \"Samantha\": 32,\n",
    "            \"Carlos\": 23,\n",
    "            \"Hector\": 51,\n",
    "            \"othernames\": [\"Chris\",\"Steve\"]\n",
    "}\n",
    "\n",
    "for key in newnames[\"othernames\"]:\n",
    "    for i in key:\n",
    "        print(i)\n",
    "\n"
   ]
  },
  {
   "cell_type": "markdown",
   "metadata": {},
   "source": [
    "##### Dictionaries with Dictionaries"
   ]
  },
  {
   "cell_type": "code",
   "execution_count": 29,
   "metadata": {},
   "outputs": [
    {
     "name": "stdout",
     "output_type": "stream",
     "text": [
      "3\n"
     ]
    }
   ],
   "source": [
    "# to get values, must traverse through keys\n",
    "newnames2 = {\"Gonzalez\": 26,\n",
    "         \"Lopez\": 32,\n",
    "            \"Mark\": 23,\n",
    "            \"Mike\": 51,\n",
    "            \"John\": \n",
    "             {\"Sammy\": 54,\n",
    "              \"Pedro\": 32,\n",
    "              \"Jose\": 3\n",
    "             }\n",
    "}\n",
    "\n",
    "print(newnames2[\"John\"][\"Jose\"])\n",
    "\n",
    "\n"
   ]
  },
  {
   "cell_type": "markdown",
   "metadata": {},
   "source": [
    "## Dictionaries vs. Lists (over time) Example of RUNTIME\n",
    "### When inputting values in a Dictionary vs List"
   ]
  },
  {
   "cell_type": "code",
   "execution_count": 30,
   "metadata": {},
   "outputs": [],
   "source": [
    "import time\n",
    "\n",
    "\n",
    "# generate fake dictionary\n",
    "d = {}\n",
    "\n",
    "for i in range(10000000):\n",
    "    d[i] = 'value'\n",
    "    \n",
    "\n",
    "# generate fake list\n",
    "big_list = [x for x in range(10000000)]"
   ]
  },
  {
   "cell_type": "code",
   "execution_count": 31,
   "metadata": {},
   "outputs": [
    {
     "name": "stdout",
     "output_type": "stream",
     "text": [
      "value\n",
      "Elapsed time for dictionary: 0.0005280971527099609\n",
      "9999999\n",
      "Elapsed time for list: 0.7851829528808594\n"
     ]
    }
   ],
   "source": [
    "# tracking time for dictionary\n",
    "start_time = time.time()\n",
    "\n",
    "print(d[9999999])\n",
    "\n",
    "end_time = time.time() - start_time\n",
    "\n",
    "print('Elapsed time for dictionary: {}'.format(end_time))\n",
    "\n",
    "\n",
    "# tracking time for list\n",
    "start_time = time.time()\n",
    "\n",
    "for i in range(len(big_list)):\n",
    "    if i == 9999999:\n",
    "        print(i)\n",
    "\n",
    "end_time = time.time() - start_time\n",
    "\n",
    "print('Elapsed time for list: {}'.format(end_time))"
   ]
  },
  {
   "cell_type": "markdown",
   "metadata": {},
   "source": [
    "## Exercise #3 - Write a Function that asks someone's name and address, and then stores that into a dictionary, and continues to do so until they choose to 'quit'. Once they quit, the program should print all names and addresses. <br>\n",
    "<p>\n",
    "<b>Proper steps:</b><br>\n",
    "step 1: write a function that takes in information and stores it in a dictionary<br>\n",
    "step 2: define an empty dictionary to work with<br>\n",
    "step 3: create our loop, which asks the user for information until they quit<br>\n",
    "step 4: ask for the information, and store it into variables<br>\n",
    "step 5: check if the user types quit<br>\n",
    "step 5a: print out all information<br>\n",
    "step 5b: break out of the loop<br>\n",
    "step 6: if they didn't quit, add the information to the dictionary<br>\n",
    "step 7: invoke the function by calling it\n",
    "</p>"
   ]
  },
  {
   "cell_type": "code",
   "execution_count": 34,
   "metadata": {},
   "outputs": [
    {
     "name": "stdout",
     "output_type": "stream",
     "text": [
      "What is your name? bryan\n",
      "What is your address? new york\n",
      "What is your name? harry\n",
      "What is your address? chicago\n",
      "What is your name? david\n",
      "What is your address? los angeles\n",
      "What is your name? william\n",
      "What is your address? miami\n",
      "What is your name? martha\n",
      "What is your address? boston\n",
      "What is your name? greg\n",
      "What is your address? quit\n",
      "{'bryan': 'new york', 'harry': 'chicago', 'david': 'los angeles', 'william': 'miami', 'martha': 'boston'}\n"
     ]
    }
   ],
   "source": [
    "from IPython.display import clear_output\n",
    "\n",
    "\n",
    "def nameaddress():\n",
    "    \n",
    "    name_address = {}\n",
    "    \n",
    "    x = input(\"What is your name? \")\n",
    "    \n",
    "    if x == \"quit\":\n",
    "        print(\" \")\n",
    "    \n",
    "    y = input(\"What is your address? \")\n",
    "    \n",
    "    if y == \"quit\":\n",
    "        print(\" \")\n",
    "    \n",
    "    while x != \"quit\" and y != \"quit\": \n",
    "        name_address[x] = y\n",
    "        x = input(\"What is your name? \")\n",
    "        \n",
    "        if x == \"quit\":\n",
    "            break\n",
    "        \n",
    "        y = input(\"What is your address? \")\n",
    "        \n",
    "        if y == \"quit\":\n",
    "            break\n",
    "   \n",
    "    print(name_address)\n",
    "\n",
    "    \n",
    "    \n",
    "nameaddress()\n",
    "\n"
   ]
  },
  {
   "cell_type": "markdown",
   "metadata": {},
   "source": [
    "## Set <br>\n",
    "<p>A Set is an unordered collection data type that is iterable (loop), mutable, and has no duplicate elements.<br>Major advantage is that it is highly optimized in checking if something is in the set, as opposed to checking if something is in a list.</p>"
   ]
  },
  {
   "cell_type": "markdown",
   "metadata": {},
   "source": [
    "##### Declaring"
   ]
  },
  {
   "cell_type": "code",
   "execution_count": 35,
   "metadata": {},
   "outputs": [
    {
     "name": "stdout",
     "output_type": "stream",
     "text": [
      "{2, 4, 5, 6}\n"
     ]
    }
   ],
   "source": [
    "# set() or {}\n",
    "# no order {3, 2, 1} outputs as {1, 2, 3}\n",
    "x = {4,5,2,6}\n",
    "\n",
    "print(x)\n",
    "\n",
    "\n"
   ]
  },
  {
   "cell_type": "markdown",
   "metadata": {},
   "source": [
    "##### .add()"
   ]
  },
  {
   "cell_type": "code",
   "execution_count": 37,
   "metadata": {},
   "outputs": [
    {
     "name": "stdout",
     "output_type": "stream",
     "text": [
      "{2, 3, 4, 6}\n"
     ]
    }
   ],
   "source": [
    "# set.add()\n",
    "\n",
    "x.add(3)\n",
    "print(x)"
   ]
  },
  {
   "cell_type": "markdown",
   "metadata": {},
   "source": [
    "##### .remove()"
   ]
  },
  {
   "cell_type": "code",
   "execution_count": 36,
   "metadata": {},
   "outputs": [
    {
     "name": "stdout",
     "output_type": "stream",
     "text": [
      "{2, 4, 6}\n"
     ]
    }
   ],
   "source": [
    "# removes by value\n",
    "# set.remove()\n",
    "# nums.remove(56)\n",
    "\n",
    "x.remove(5)\n",
    "\n",
    "print(x)\n",
    "\n"
   ]
  },
  {
   "cell_type": "markdown",
   "metadata": {},
   "source": [
    "##### .union() "
   ]
  },
  {
   "cell_type": "code",
   "execution_count": 38,
   "metadata": {},
   "outputs": [
    {
     "name": "stdout",
     "output_type": "stream",
     "text": [
      "{2, 3, 4, 5, 6, 7, 10}\n"
     ]
    }
   ],
   "source": [
    "# Returns a union of two sets, can also use '|' or set.union(set)\n",
    "# joins all numbers, gets rid of duplicates\n",
    "x = {4,5,2,6}\n",
    "y = {2,5,10,7,3}\n",
    "\n",
    "z = x | y\n",
    "\n",
    "print(z)\n"
   ]
  },
  {
   "cell_type": "markdown",
   "metadata": {},
   "source": [
    "##### .intersection()"
   ]
  },
  {
   "cell_type": "code",
   "execution_count": 39,
   "metadata": {},
   "outputs": [
    {
     "name": "stdout",
     "output_type": "stream",
     "text": [
      "{2, 5}\n"
     ]
    }
   ],
   "source": [
    "# Returns an intersection of two sets, can also use '&'\n",
    "# only takes similar elements from both sets\n",
    "w = x & y\n",
    "print(w)\n"
   ]
  },
  {
   "cell_type": "markdown",
   "metadata": {},
   "source": [
    "##### .difference()"
   ]
  },
  {
   "cell_type": "code",
   "execution_count": 40,
   "metadata": {},
   "outputs": [
    {
     "name": "stdout",
     "output_type": "stream",
     "text": [
      "{4, 6}\n",
      "{10, 3, 7}\n"
     ]
    }
   ],
   "source": [
    "# Returns a set containing all the elements of invoking set that are not in the second set, can also use '-'\n",
    "# only takes values from the first set that are not in the second set\n",
    "# order matters\n",
    "\n",
    "z = x - y\n",
    "print(z)\n",
    "\n",
    "w = y.difference(x)\n",
    "print(w)\n",
    "\n"
   ]
  },
  {
   "cell_type": "markdown",
   "metadata": {},
   "source": [
    "##### .clear()"
   ]
  },
  {
   "cell_type": "code",
   "execution_count": 41,
   "metadata": {},
   "outputs": [
    {
     "name": "stdout",
     "output_type": "stream",
     "text": [
      "{2, 4, 5, 6}\n",
      "set()\n"
     ]
    }
   ],
   "source": [
    "# Empties the whole set\n",
    "# set.clear()\n",
    "\n",
    "print(x)\n",
    "x.clear()\n",
    "print(x)\n"
   ]
  },
  {
   "cell_type": "markdown",
   "metadata": {},
   "source": [
    "##### Frozenset <br>\n",
    "<p>Frozen sets are immutable objects that only support methods and operators that produce a result without affecting the frozen set or sets to which they are applied.</p><br><b>Unique & Immutable</b>"
   ]
  },
  {
   "cell_type": "code",
   "execution_count": 1,
   "metadata": {},
   "outputs": [
    {
     "name": "stdout",
     "output_type": "stream",
     "text": [
      "frozenset({2, 4, 5, 6, 7})\n"
     ]
    },
    {
     "ename": "AttributeError",
     "evalue": "'frozenset' object has no attribute 'add'",
     "output_type": "error",
     "traceback": [
      "\u001b[0;31m---------------------------------------------------------------------------\u001b[0m",
      "\u001b[0;31mAttributeError\u001b[0m                            Traceback (most recent call last)",
      "Cell \u001b[0;32mIn[1], line 9\u001b[0m\n\u001b[1;32m      6\u001b[0m y \u001b[38;5;241m=\u001b[39m \u001b[38;5;28mfrozenset\u001b[39m(x)\n\u001b[1;32m      7\u001b[0m \u001b[38;5;28mprint\u001b[39m(y)\n\u001b[0;32m----> 9\u001b[0m y\u001b[38;5;241m.\u001b[39madd(\u001b[38;5;241m10\u001b[39m)\n\u001b[1;32m     10\u001b[0m \u001b[38;5;28mprint\u001b[39m(y)\n",
      "\u001b[0;31mAttributeError\u001b[0m: 'frozenset' object has no attribute 'add'"
     ]
    }
   ],
   "source": [
    "# frozenset([])\n",
    "x = {4,5,2,6}\n",
    "x.add(7)\n",
    "\n",
    "\n",
    "y = frozenset(x)\n",
    "print(y)\n",
    "\n",
    "y.add(10)\n",
    "print(y)\n",
    "\n"
   ]
  },
  {
   "cell_type": "markdown",
   "metadata": {},
   "source": [
    "## Modules"
   ]
  },
  {
   "cell_type": "markdown",
   "metadata": {},
   "source": [
    "##### Importing Entire Modules"
   ]
  },
  {
   "cell_type": "code",
   "execution_count": 152,
   "metadata": {},
   "outputs": [
    {
     "name": "stdout",
     "output_type": "stream",
     "text": [
      "3\n"
     ]
    }
   ],
   "source": [
    "# import or from 'xxx' import *\n",
    "# import math\n",
    "from math import floor, pi\n",
    "\n",
    "print(floor(pi))"
   ]
  },
  {
   "cell_type": "markdown",
   "metadata": {},
   "source": [
    "##### Importing Methods Only"
   ]
  },
  {
   "cell_type": "code",
   "execution_count": 154,
   "metadata": {},
   "outputs": [
    {
     "name": "stdout",
     "output_type": "stream",
     "text": [
      "3.141592653589793\n"
     ]
    }
   ],
   "source": [
    "# from 'xxx' import 'xxx'\n",
    "# from math import floor\n",
    "from math import (floor, pi)\n",
    "\n",
    "print(pi)\n"
   ]
  },
  {
   "cell_type": "markdown",
   "metadata": {},
   "source": [
    "##### Using the 'as' Keyword"
   ]
  },
  {
   "cell_type": "code",
   "execution_count": 45,
   "metadata": {},
   "outputs": [],
   "source": [
    "# from 'xxx' import 'xxx' as 'xxx' or import 'xxx' as 'xxx'\n",
    "# from math import floor as f\n",
    "from math import floor as f, pi  as p\n"
   ]
  },
  {
   "cell_type": "markdown",
   "metadata": {},
   "source": [
    "##### Creating a Module"
   ]
  },
  {
   "cell_type": "code",
   "execution_count": 19,
   "metadata": {},
   "outputs": [
    {
     "name": "stdout",
     "output_type": "stream",
     "text": [
      "Hello Mr/Ms Bryan...we've been waiting for you!\n"
     ]
    }
   ],
   "source": [
    "import module\n",
    "\n",
    "print(module.printName(\"Bryan\"))"
   ]
  },
  {
   "cell_type": "markdown",
   "metadata": {},
   "source": [
    "# Exercises"
   ]
  },
  {
   "cell_type": "markdown",
   "metadata": {},
   "source": [
    "### 1) Build a Shopping Cart <br>\n",
    "<p><b>You can use either lists or dictionaries. The program should have the following capabilities:</b><br><br>\n",
    "1) Takes in input <br>\n",
    "2) Stores user input into a dictionary or list <br>\n",
    "3) The User can add or delete items <br>\n",
    "4) The User can see current shopping list <br>\n",
    "5) The program Loops until user 'quits' <br>\n",
    "6) Upon quiting the program, print out all items in the user's list <br>\n",
    "</p>"
   ]
  },
  {
   "cell_type": "code",
   "execution_count": 188,
   "metadata": {},
   "outputs": [
    {
     "name": "stdout",
     "output_type": "stream",
     "text": [
      "Which types of items do you want to add to shopping cart? Write 'quits' to quit shopping. apple\n",
      "['apple']\n",
      "Would you like to delete items from your shopping cart? yes\n",
      "Which item or items would you like to delete from your shopping cart?apple\n",
      "[]\n",
      "Which item or items would you like to delete from your shopping cart?done\n",
      "[]\n",
      "Would you like to delete items from your shopping cart? no\n",
      "What more items do you want to add to shopping cart? Write 'quits' to quit shopping. apple\n",
      "['apple']\n",
      "Would you like to delete items from your shopping cart? no\n",
      "What more items do you want to add to shopping cart? Write 'quits' to quit shopping. orange\n",
      "['apple', 'orange']\n",
      "Would you like to delete items from your shopping cart? pear\n",
      "['apple', 'orange']\n",
      "Would you like to delete items from your shopping cart? no\n",
      "What more items do you want to add to shopping cart? Write 'quits' to quit shopping. mandarin\n",
      "['apple', 'orange', 'mandarin']\n",
      "Would you like to delete items from your shopping cart? no\n",
      "What more items do you want to add to shopping cart? Write 'quits' to quit shopping. pear\n",
      "['apple', 'orange', 'mandarin', 'pear']\n",
      "Would you like to delete items from your shopping cart? no\n",
      "What more items do you want to add to shopping cart? Write 'quits' to quit shopping. banana\n",
      "['apple', 'orange', 'mandarin', 'pear', 'banana']\n",
      "Would you like to delete items from your shopping cart? yes\n",
      "Which item or items would you like to delete from your shopping cart?mandarin\n",
      "['apple', 'orange', 'pear', 'banana']\n",
      "Which item or items would you like to delete from your shopping cart?banana\n",
      "['apple', 'orange', 'pear']\n",
      "Which item or items would you like to delete from your shopping cart?done\n",
      "['apple', 'orange', 'pear']\n",
      "Would you like to delete items from your shopping cart? no\n",
      "What more items do you want to add to shopping cart? Write 'quits' to quit shopping. quits\n",
      "Thanks for shopping today!\n",
      "['apple', 'orange', 'pear']\n"
     ]
    }
   ],
   "source": [
    "from IPython.display import clear_output\n",
    "\n",
    "shopping_cart = []\n",
    "\n",
    "\n",
    "x = input(\"Which types of items do you want to add to shopping cart? Write 'quits' to quit shopping. \")\n",
    "if x == \"quits\":\n",
    "    print (\"Thanks for shopping today!\")\n",
    "    \n",
    "else :\n",
    "    shopping_cart.append(x)\n",
    "    print(shopping_cart)\n",
    "    while x != \"quits\":\n",
    "        y = input(\"Would you like to delete items from your shopping cart? \")\n",
    "        while y == \"yes\":\n",
    "            i = input(\"Which item or items would you like to delete from your shopping cart? Say done when finished! \" )\n",
    "            if i == \"done\":\n",
    "                break\n",
    "            shopping_cart.remove(i)\n",
    "            print(shopping_cart)\n",
    "            \n",
    "            \n",
    "        \n",
    "        if y == \"no\":\n",
    "            x = input(\"What more items do you want to add to shopping cart? Write 'quits' to quit shopping. \")\n",
    "            if x == \"quits\":\n",
    "                print(\"Thanks for shopping today!\")\n",
    "                print(shopping_cart)\n",
    "                break\n",
    "            shopping_cart.append(x)\n",
    "    \n",
    "    \n",
    "        print(shopping_cart)\n",
    "    \n",
    "\n",
    "    \n",
    "\n"
   ]
  },
  {
   "cell_type": "markdown",
   "metadata": {},
   "source": [
    "### 2) Create a Module in VS Code and Import It into jupyter notebook <br>\n",
    "<p><b>Module should have the following capabilities:</b><br><br>\n",
    "1) Has a function to calculate the square footage of a house <br>\n",
    "    <b>Reminder of Formula: Length X Width == Area<br>\n",
    "        <hr>\n",
    "2) Has a function to calculate the circumference of a circle <br><br>\n",
    "<b>Program in Jupyter Notebook should take in user input and use imported functions to calculate a circle's circumference or a houses square footage</b>\n",
    "</p>"
   ]
  },
  {
   "cell_type": "code",
   "execution_count": 1,
   "metadata": {
    "scrolled": true
   },
   "outputs": [
    {
     "name": "stdout",
     "output_type": "stream",
     "text": [
      "Input length of house: 20\n",
      "Input width of house: 3\n",
      "60\n",
      "Input radius of circle: 4\n",
      "25.132741228718345\n"
     ]
    }
   ],
   "source": [
    "from homework_3_2 import square_area, circum_circ\n",
    "\n",
    "x = int(input(\"Input length of house: \"))\n",
    "y = int(input(\"Input width of house: \"))\n",
    "\n",
    "square_area(x,y)\n",
    "\n",
    "\n",
    "r = int(input(\"Input radius of circle: \"))\n",
    "circum_circ(r)\n",
    "\n"
   ]
  },
  {
   "cell_type": "code",
   "execution_count": null,
   "metadata": {},
   "outputs": [],
   "source": []
  },
  {
   "cell_type": "code",
   "execution_count": null,
   "metadata": {},
   "outputs": [],
   "source": []
  }
 ],
 "metadata": {
  "kernelspec": {
   "display_name": "Python 3 (ipykernel)",
   "language": "python",
   "name": "python3"
  },
  "language_info": {
   "codemirror_mode": {
    "name": "ipython",
    "version": 3
   },
   "file_extension": ".py",
   "mimetype": "text/x-python",
   "name": "python",
   "nbconvert_exporter": "python",
   "pygments_lexer": "ipython3",
   "version": "3.11.5"
  }
 },
 "nbformat": 4,
 "nbformat_minor": 2
}
